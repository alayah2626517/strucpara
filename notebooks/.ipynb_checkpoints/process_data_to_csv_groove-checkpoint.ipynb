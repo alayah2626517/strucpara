{
 "cells": [
  {
   "cell_type": "code",
   "execution_count": 1,
   "metadata": {},
   "outputs": [],
   "source": [
    "from strucpara.processing import GrooveAgent\n",
    "import pandas as pd\n",
    "rootfolder = '/Volumes/TOSHIBA_2T/Hsin-Yun/cg_13/analysis/meth3/major_minor_g'"
   ]
  },
  {
   "cell_type": "markdown",
   "metadata": {},
   "source": [
    "### Part 1: Initialize"
   ]
  },
  {
   "cell_type": "code",
   "execution_count": 22,
   "metadata": {},
   "outputs": [
    {
     "name": "stdout",
     "output_type": "stream",
     "text": [
      "mkdir /Volumes/TOSHIBA_2T/Hsin-Yun/cg_13/analysis/meth3/major_minor_g/me123\n",
      "mkdir /Volumes/TOSHIBA_2T/Hsin-Yun/cg_13/analysis/meth3/major_minor_g/me123/0_1us\n"
     ]
    }
   ],
   "source": [
    "host = 'me123'\n",
    "time_interval = '0_1us' # '0_1us', '1_2us', '2_3us', '3_4us', '4_5us'\n",
    "bp_agent = GrooveAgent(rootfolder, host, time_interval)"
   ]
  },
  {
   "cell_type": "code",
   "execution_count": 3,
   "metadata": {},
   "outputs": [],
   "source": [
    "# server_ip = '140.113.120.131'\n",
    "# bp_agent.download_ensesmble_out(server_ip)\n",
    "# bp_agent.extract_parameters()"
   ]
  },
  {
   "cell_type": "markdown",
   "metadata": {},
   "source": [
    "### Part 2: rename & mv out file into 0_1us"
   ]
  },
  {
   "cell_type": "markdown",
   "metadata": {},
   "source": [
    "### ./changename.sh"
   ]
  },
  {
   "cell_type": "markdown",
   "metadata": {},
   "source": [
    "### Part 3: Convert dat(actually it's 'out' file) to csv"
   ]
  },
  {
   "cell_type": "code",
   "execution_count": 23,
   "metadata": {},
   "outputs": [
    {
     "name": "stdout",
     "output_type": "stream",
     "text": [
      "Dataframe to csv: /Volumes/TOSHIBA_2T/Hsin-Yun/cg_13/analysis/meth3/major_minor_g/me123/0_1us/major_gw_pp.csv\n",
      "Dataframe to csv: /Volumes/TOSHIBA_2T/Hsin-Yun/cg_13/analysis/meth3/major_minor_g/me123/0_1us/major_gw_refined.csv\n",
      "Dataframe to csv: /Volumes/TOSHIBA_2T/Hsin-Yun/cg_13/analysis/meth3/major_minor_g/me123/0_1us/minor_gw_pp.csv\n",
      "Dataframe to csv: /Volumes/TOSHIBA_2T/Hsin-Yun/cg_13/analysis/meth3/major_minor_g/me123/0_1us/minor_gw_refined.csv\n"
     ]
    }
   ],
   "source": [
    "bp_agent.convert_dat_to_csv()"
   ]
  },
  {
   "cell_type": "markdown",
   "metadata": {},
   "source": [
    "### Test"
   ]
  },
  {
   "cell_type": "code",
   "execution_count": 24,
   "metadata": {},
   "outputs": [
    {
     "data": {
      "text/html": [
       "<div>\n",
       "<style scoped>\n",
       "    .dataframe tbody tr th:only-of-type {\n",
       "        vertical-align: middle;\n",
       "    }\n",
       "\n",
       "    .dataframe tbody tr th {\n",
       "        vertical-align: top;\n",
       "    }\n",
       "\n",
       "    .dataframe thead th {\n",
       "        text-align: right;\n",
       "    }\n",
       "</style>\n",
       "<table border=\"1\" class=\"dataframe\">\n",
       "  <thead>\n",
       "    <tr style=\"text-align: right;\">\n",
       "      <th></th>\n",
       "      <th>label1</th>\n",
       "      <th>label2</th>\n",
       "      <th>label3</th>\n",
       "      <th>label4</th>\n",
       "      <th>label5</th>\n",
       "      <th>label6</th>\n",
       "      <th>label7</th>\n",
       "      <th>label8</th>\n",
       "      <th>label9</th>\n",
       "      <th>label10</th>\n",
       "      <th>label11</th>\n",
       "      <th>label12</th>\n",
       "    </tr>\n",
       "    <tr>\n",
       "      <th>Frame-ID</th>\n",
       "      <th></th>\n",
       "      <th></th>\n",
       "      <th></th>\n",
       "      <th></th>\n",
       "      <th></th>\n",
       "      <th></th>\n",
       "      <th></th>\n",
       "      <th></th>\n",
       "      <th></th>\n",
       "      <th></th>\n",
       "      <th></th>\n",
       "      <th></th>\n",
       "    </tr>\n",
       "  </thead>\n",
       "  <tbody>\n",
       "    <tr>\n",
       "      <th>1</th>\n",
       "      <td>na</td>\n",
       "      <td>na</td>\n",
       "      <td>14.7</td>\n",
       "      <td>14.3</td>\n",
       "      <td>14.1</td>\n",
       "      <td>14.4</td>\n",
       "      <td>14.0</td>\n",
       "      <td>13.0</td>\n",
       "      <td>12.5</td>\n",
       "      <td>11.9</td>\n",
       "      <td>na</td>\n",
       "      <td>na</td>\n",
       "    </tr>\n",
       "    <tr>\n",
       "      <th>2</th>\n",
       "      <td>na</td>\n",
       "      <td>na</td>\n",
       "      <td>14.4</td>\n",
       "      <td>12.7</td>\n",
       "      <td>12.1</td>\n",
       "      <td>12.8</td>\n",
       "      <td>13.0</td>\n",
       "      <td>12.9</td>\n",
       "      <td>12.1</td>\n",
       "      <td>12.5</td>\n",
       "      <td>na</td>\n",
       "      <td>na</td>\n",
       "    </tr>\n",
       "    <tr>\n",
       "      <th>3</th>\n",
       "      <td>na</td>\n",
       "      <td>na</td>\n",
       "      <td>11.9</td>\n",
       "      <td>13.3</td>\n",
       "      <td>13.5</td>\n",
       "      <td>13.5</td>\n",
       "      <td>12.7</td>\n",
       "      <td>12.8</td>\n",
       "      <td>13.7</td>\n",
       "      <td>15.9</td>\n",
       "      <td>na</td>\n",
       "      <td>na</td>\n",
       "    </tr>\n",
       "    <tr>\n",
       "      <th>4</th>\n",
       "      <td>na</td>\n",
       "      <td>na</td>\n",
       "      <td>13.1</td>\n",
       "      <td>13.2</td>\n",
       "      <td>13.8</td>\n",
       "      <td>14.0</td>\n",
       "      <td>12.9</td>\n",
       "      <td>13.1</td>\n",
       "      <td>12.6</td>\n",
       "      <td>12.9</td>\n",
       "      <td>na</td>\n",
       "      <td>na</td>\n",
       "    </tr>\n",
       "    <tr>\n",
       "      <th>5</th>\n",
       "      <td>na</td>\n",
       "      <td>na</td>\n",
       "      <td>13.0</td>\n",
       "      <td>13.0</td>\n",
       "      <td>13.4</td>\n",
       "      <td>12.9</td>\n",
       "      <td>11.3</td>\n",
       "      <td>11.5</td>\n",
       "      <td>11.4</td>\n",
       "      <td>13.6</td>\n",
       "      <td>na</td>\n",
       "      <td>na</td>\n",
       "    </tr>\n",
       "    <tr>\n",
       "      <th>...</th>\n",
       "      <td>...</td>\n",
       "      <td>...</td>\n",
       "      <td>...</td>\n",
       "      <td>...</td>\n",
       "      <td>...</td>\n",
       "      <td>...</td>\n",
       "      <td>...</td>\n",
       "      <td>...</td>\n",
       "      <td>...</td>\n",
       "      <td>...</td>\n",
       "      <td>...</td>\n",
       "      <td>...</td>\n",
       "    </tr>\n",
       "    <tr>\n",
       "      <th>9997</th>\n",
       "      <td>na</td>\n",
       "      <td>na</td>\n",
       "      <td>11.5</td>\n",
       "      <td>11.6</td>\n",
       "      <td>13.5</td>\n",
       "      <td>15.4</td>\n",
       "      <td>14.7</td>\n",
       "      <td>14.3</td>\n",
       "      <td>12.2</td>\n",
       "      <td>9.6</td>\n",
       "      <td>na</td>\n",
       "      <td>na</td>\n",
       "    </tr>\n",
       "    <tr>\n",
       "      <th>9998</th>\n",
       "      <td>na</td>\n",
       "      <td>na</td>\n",
       "      <td>15.3</td>\n",
       "      <td>13.1</td>\n",
       "      <td>11.2</td>\n",
       "      <td>11.8</td>\n",
       "      <td>12.9</td>\n",
       "      <td>13.8</td>\n",
       "      <td>13.0</td>\n",
       "      <td>10.3</td>\n",
       "      <td>na</td>\n",
       "      <td>na</td>\n",
       "    </tr>\n",
       "    <tr>\n",
       "      <th>9999</th>\n",
       "      <td>na</td>\n",
       "      <td>na</td>\n",
       "      <td>11.1</td>\n",
       "      <td>12.7</td>\n",
       "      <td>13.5</td>\n",
       "      <td>13.7</td>\n",
       "      <td>13.4</td>\n",
       "      <td>13.1</td>\n",
       "      <td>11.9</td>\n",
       "      <td>11.1</td>\n",
       "      <td>na</td>\n",
       "      <td>na</td>\n",
       "    </tr>\n",
       "    <tr>\n",
       "      <th>10000</th>\n",
       "      <td>na</td>\n",
       "      <td>na</td>\n",
       "      <td>12.6</td>\n",
       "      <td>13.0</td>\n",
       "      <td>12.8</td>\n",
       "      <td>12.4</td>\n",
       "      <td>12.4</td>\n",
       "      <td>12.3</td>\n",
       "      <td>10.2</td>\n",
       "      <td>10.5</td>\n",
       "      <td>na</td>\n",
       "      <td>na</td>\n",
       "    </tr>\n",
       "    <tr>\n",
       "      <th>10001</th>\n",
       "      <td>na</td>\n",
       "      <td>na</td>\n",
       "      <td>13.4</td>\n",
       "      <td>13.4</td>\n",
       "      <td>13.3</td>\n",
       "      <td>13.0</td>\n",
       "      <td>13.9</td>\n",
       "      <td>15.0</td>\n",
       "      <td>13.3</td>\n",
       "      <td>12.9</td>\n",
       "      <td>na</td>\n",
       "      <td>na</td>\n",
       "    </tr>\n",
       "  </tbody>\n",
       "</table>\n",
       "<p>10001 rows × 12 columns</p>\n",
       "</div>"
      ],
      "text/plain": [
       "         label1 label2  label3  label4  label5  label6  label7  label8  \\\n",
       "Frame-ID                                                                 \n",
       "1            na     na    14.7    14.3    14.1    14.4    14.0    13.0   \n",
       "2            na     na    14.4    12.7    12.1    12.8    13.0    12.9   \n",
       "3            na     na    11.9    13.3    13.5    13.5    12.7    12.8   \n",
       "4            na     na    13.1    13.2    13.8    14.0    12.9    13.1   \n",
       "5            na     na    13.0    13.0    13.4    12.9    11.3    11.5   \n",
       "...         ...    ...     ...     ...     ...     ...     ...     ...   \n",
       "9997         na     na    11.5    11.6    13.5    15.4    14.7    14.3   \n",
       "9998         na     na    15.3    13.1    11.2    11.8    12.9    13.8   \n",
       "9999         na     na    11.1    12.7    13.5    13.7    13.4    13.1   \n",
       "10000        na     na    12.6    13.0    12.8    12.4    12.4    12.3   \n",
       "10001        na     na    13.4    13.4    13.3    13.0    13.9    15.0   \n",
       "\n",
       "          label9  label10 label11 label12  \n",
       "Frame-ID                                   \n",
       "1           12.5     11.9      na      na  \n",
       "2           12.1     12.5      na      na  \n",
       "3           13.7     15.9      na      na  \n",
       "4           12.6     12.9      na      na  \n",
       "5           11.4     13.6      na      na  \n",
       "...          ...      ...     ...     ...  \n",
       "9997        12.2      9.6      na      na  \n",
       "9998        13.0     10.3      na      na  \n",
       "9999        11.9     11.1      na      na  \n",
       "10000       10.2     10.5      na      na  \n",
       "10001       13.3     12.9      na      na  \n",
       "\n",
       "[10001 rows x 12 columns]"
      ]
     },
     "execution_count": 24,
     "metadata": {},
     "output_type": "execute_result"
    }
   ],
   "source": [
    "df = pd.read_csv(f'{rootfolder}/{host}/{time_interval}/minor_gw_pp.csv', index_col='Frame-ID')\n",
    "df"
   ]
  },
  {
   "cell_type": "markdown",
   "metadata": {},
   "source": [
    "### Additional Part 1: Clean all the dat file"
   ]
  },
  {
   "cell_type": "code",
   "execution_count": null,
   "metadata": {},
   "outputs": [],
   "source": [
    "bp_agent.clean_dat_files()"
   ]
  }
 ],
 "metadata": {
  "kernelspec": {
   "display_name": "Python 3",
   "language": "python",
   "name": "python3"
  },
  "language_info": {
   "codemirror_mode": {
    "name": "ipython",
    "version": 3
   },
   "file_extension": ".py",
   "mimetype": "text/x-python",
   "name": "python",
   "nbconvert_exporter": "python",
   "pygments_lexer": "ipython3",
   "version": "3.8.6"
  }
 },
 "nbformat": 4,
 "nbformat_minor": 4
}
