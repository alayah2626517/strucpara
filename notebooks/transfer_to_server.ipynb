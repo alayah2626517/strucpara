{
 "cells": [
  {
   "cell_type": "code",
   "execution_count": 1,
   "metadata": {},
   "outputs": [],
   "source": [
    "from strucpara.transfer import TransferAgent\n",
    "allsys_folder = '/home/yizaochen/codes/dna_rna/all_systems'"
   ]
  },
  {
   "cell_type": "markdown",
   "metadata": {},
   "source": [
    "### Part 0: Initialize"
   ]
  },
  {
   "cell_type": "code",
   "execution_count": 36,
   "metadata": {},
   "outputs": [
    {
     "name": "stdout",
     "output_type": "stream",
     "text": [
      "mkdir /home/yizaochen/codes/dna_rna/collect_folder_to_multiscale/tgtg_21mer\n",
      "mkdir /home/yizaochen/codes/dna_rna/collect_folder_to_multiscale/tgtg_21mer/0_1us\n"
     ]
    }
   ],
   "source": [
    "host = 'tgtg_21mer'\n",
    "time_interval = '0_1us' # '0_1us', '1_2us', '2_3us', '3_4us', '4_5us'\n",
    "t_agent = TransferAgent(allsys_folder, host, time_interval)"
   ]
  },
  {
   "cell_type": "markdown",
   "metadata": {},
   "source": [
    "### Part 1: Convert perfect.gro to perfect.pdb"
   ]
  },
  {
   "cell_type": "code",
   "execution_count": 40,
   "metadata": {},
   "outputs": [
    {
     "name": "stdout",
     "output_type": "stream",
     "text": [
      "/usr/bin/gmx editconf -f /home/yizaochen/codes/dna_rna/all_systems/tgtg_21mer/bdna+bdna/input/allatoms/bdna+bdna.perfect.gro -o /home/yizaochen/codes/dna_rna/all_systems/tgtg_21mer/bdna+bdna/input/allatoms/bdna+bdna.perfect.pdb\n"
     ]
    }
   ],
   "source": [
    "t_agent.perfect_gro_to_pdb()"
   ]
  },
  {
   "cell_type": "markdown",
   "metadata": {},
   "source": [
    "### Part 2: Fitting xtc to perfect structure"
   ]
  },
  {
   "cell_type": "code",
   "execution_count": 41,
   "metadata": {},
   "outputs": [
    {
     "name": "stdout",
     "output_type": "stream",
     "text": [
      "echo 0 0 | /usr/bin/gmx trjconv -fit rot+trans -s /home/yizaochen/codes/dna_rna/all_systems/tgtg_21mer/bdna+bdna/input/allatoms/bdna+bdna.perfect.pdb -f /home/yizaochen/codes/dna_rna/all_systems/tgtg_21mer/bdna+bdna/input/allatoms/bdna+bdna.all.xtc -o /home/yizaochen/codes/dna_rna/all_systems/tgtg_21mer/bdna+bdna/input/allatoms/bdna+bdna.all.fitperfect.xtc\n"
     ]
    }
   ],
   "source": [
    "t_agent.rmsd_fit_to_perfect()"
   ]
  },
  {
   "cell_type": "markdown",
   "metadata": {},
   "source": [
    "### Part 3: Copy to collect folder"
   ]
  },
  {
   "cell_type": "code",
   "execution_count": 42,
   "metadata": {},
   "outputs": [
    {
     "name": "stdout",
     "output_type": "stream",
     "text": [
      "cp /home/yizaochen/codes/dna_rna/all_systems/tgtg_21mer/bdna+bdna/input/allatoms/bdna+bdna.perfect.pdb /home/yizaochen/codes/dna_rna/collect_folder_to_multiscale/tgtg_21mer/0_1us/bdna+bdna.perfect.pdb\n",
      "cp /home/yizaochen/codes/dna_rna/all_systems/tgtg_21mer/bdna+bdna/input/allatoms/bdna+bdna.all.fitperfect.xtc /home/yizaochen/codes/dna_rna/collect_folder_to_multiscale/tgtg_21mer/0_1us/bdna+bdna.all.fitperfect.xtc\n"
     ]
    }
   ],
   "source": [
    "t_agent.copy_to_collect_folder()"
   ]
  },
  {
   "cell_type": "markdown",
   "metadata": {},
   "source": [
    "### Part 4: Compress Input"
   ]
  },
  {
   "cell_type": "code",
   "execution_count": 43,
   "metadata": {},
   "outputs": [
    {
     "name": "stdout",
     "output_type": "stream",
     "text": [
      "tar -jcv -f /home/yizaochen/codes/dna_rna/collect_folder_to_multiscale/tgtg_21mer/0_1us/x3dna.required.tar.bz2 /home/yizaochen/codes/dna_rna/collect_folder_to_multiscale/tgtg_21mer/0_1us\n"
     ]
    }
   ],
   "source": [
    "t_agent.compress_input()"
   ]
  },
  {
   "cell_type": "markdown",
   "metadata": {},
   "source": [
    "### Part 5: Transfer to server"
   ]
  },
  {
   "cell_type": "code",
   "execution_count": 44,
   "metadata": {},
   "outputs": [
    {
     "name": "stdout",
     "output_type": "stream",
     "text": [
      "Please excute the following in the terminal:\n",
      "scp /home/yizaochen/codes/dna_rna/collect_folder_to_multiscale/tgtg_21mer/0_1us/x3dna.required.tar.bz2 yizaochen@140.113.120.131:/home/yizaochen/x3dna/paper_2021\n"
     ]
    }
   ],
   "source": [
    "server_ip = '140.113.120.131'\n",
    "t_agent.scp_to_server(server_ip)"
   ]
  },
  {
   "cell_type": "markdown",
   "metadata": {},
   "source": [
    "### Part 6: Decompress in server"
   ]
  },
  {
   "cell_type": "code",
   "execution_count": 35,
   "metadata": {},
   "outputs": [
    {
     "name": "stdout",
     "output_type": "stream",
     "text": [
      "Please excute the following in the terminal:\n",
      "cd /home/yizaochen/x3dna/paper_2021\n",
      "tar -jxv -f x3dna.required.tar.bz2 -C ./\n",
      "rm x3dna.required.tar.bz2\n"
     ]
    }
   ],
   "source": [
    "t_agent.decompress_in_server()"
   ]
  },
  {
   "cell_type": "code",
   "execution_count": null,
   "metadata": {},
   "outputs": [],
   "source": []
  }
 ],
 "metadata": {
  "kernelspec": {
   "display_name": "Python 3",
   "language": "python",
   "name": "python3"
  },
  "language_info": {
   "codemirror_mode": {
    "name": "ipython",
    "version": 3
   },
   "file_extension": ".py",
   "mimetype": "text/x-python",
   "name": "python",
   "nbconvert_exporter": "python",
   "pygments_lexer": "ipython3",
   "version": "3.8.5"
  }
 },
 "nbformat": 4,
 "nbformat_minor": 4
}
